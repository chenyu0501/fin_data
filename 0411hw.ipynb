# -*- coding: utf-8 -*-
"""
Created on Sun Apr 14 16:41:27 2024

@author: Acer
"""

a=11+11+11
print("8進位:",oct(a))
print("10進位:",a)


print("16進位:",hex(0xAA+0xBB+0xCC))
print("10進位:",0xAA+0xBB+0xCC)

import yfinance as yf
h = yf.download("2317.TW", "2020-01-01")
acer = yf.download("2353.TW", "2020-01-01")

from ucimlrepo import fetch_ucirepo 
  
# fetch dataset 
iris = fetch_ucirepo(id=53) 
  
# data (as pandas dataframes) 
X = iris.data.features 
y = iris.data.targets 
  
# metadata 
print(iris.metadata) 
  
# variable information 
print(iris.variables) 


